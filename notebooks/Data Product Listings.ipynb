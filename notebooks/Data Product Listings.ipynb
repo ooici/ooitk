{
 "metadata": {
  "name": ""
 },
 "nbformat": 3,
 "nbformat_minor": 0,
 "worksheets": [
  {
   "cells": [
    {
     "cell_type": "code",
     "collapsed": false,
     "input": [
      "# Make it so notebook knows how to access ooitk from the notebook dir\n",
      "import sys\n",
      "import os\n",
      "sys.path.append(os.path.dirname(os.getcwd()))"
     ],
     "language": "python",
     "metadata": {},
     "outputs": [],
     "prompt_number": 3
    },
    {
     "cell_type": "markdown",
     "metadata": {},
     "source": [
      "# Fetch the Data Produts"
     ]
    },
    {
     "cell_type": "code",
     "collapsed": false,
     "input": [
      "from ooitk.data_catalog import DataProductCatalog\n",
      "dpc = DataProductCatalog('localhost', 3000)\n",
      "\n",
      "data_product_listing = dpc.list_data_products()"
     ],
     "language": "python",
     "metadata": {},
     "outputs": [],
     "prompt_number": 14
    },
    {
     "cell_type": "markdown",
     "metadata": {},
     "source": [
      "## Print a listing of Data Products"
     ]
    },
    {
     "cell_type": "code",
     "collapsed": false,
     "input": [
      "from ooitk.display import ListTable\n",
      "listing = ListTable([['name', 'description', 'id']])\n",
      "listing.extend([[i['name'], i['description'], i['_id']] for i in data_product_listing[:10]])\n",
      "listing"
     ],
     "language": "python",
     "metadata": {},
     "outputs": [
      {
       "html": [
        "<table><tr><td>name</td><td>description</td><td>id</td></tr><tr><td>Conductivity L0 CTDMO 30m Low Power Sub-surface Mooring B - Global Station Papa Mesoscale Flanking B</td><td>Instrument GP03FLMB-RI001-06-CTDMOG999 core OOI data product</td><td>b6f603f1673c4b86991b99f4665f68c0</td></tr><tr><td>Pressure (Depth) L1 CTDMO 30m Low Power Sub-surface Mooring B - Global Station Papa Mesoscale Flanking B</td><td>Instrument GP03FLMB-RI001-06-CTDMOG999 core OOI data product</td><td>25720d68f1784c52bd13ccb325bea9fa</td></tr><tr><td>Temperature L0 CTDMO 130m Low Power Sub-surface Mooring B - Global Station Papa Mesoscale Flanking B</td><td>Instrument GP03FLMB-RI001-10-CTDMOG999 core OOI data product</td><td>a1005d4d2160427991a4df0d2b9de816</td></tr><tr><td>Pressure (Depth) L0 CTDMO 1500m Low Power Sub-surface Mooring B - Global Station Papa Mesoscale Flanking B</td><td>Instrument GP03FLMB-RI001-17-CTDMOH999 core OOI data product</td><td>28a535262a95472392d50feb8a96e7d2</td></tr><tr><td>Conductivity L1 CTDMO 40m Low Power Sub-surface Mooring B - Global Station Papa Mesoscale Flanking B</td><td>Instrument GP03FLMB-RI001-07-CTDMOG999 core OOI data product</td><td>f3277625bd40411ca9ac6da613d252f9</td></tr><tr><td>Temperature L1 CTDMO 130m Low Power Sub-surface Mooring B - Global Station Papa Mesoscale Flanking B</td><td>Instrument GP03FLMB-RI001-10-CTDMOG999 core OOI data product</td><td>5269d3338eef44888649046f5b077475</td></tr><tr><td>Optical Backscatter (Red Wavelengths) L1 FLORD Glider 002 - Global Station Papa Mobile Assets</td><td>Instrument GP05MOAS-GL002-01-FLORDM999 core OOI data product</td><td>032dd880e600453abb9a9a84d2f5fa8d</td></tr><tr><td>SBE37SMP Raw</td><td>Raw stream from SBE37SMP instrument at UCSD on Beta Demonstration Platform</td><td>2eac0ea6925d4e9ea19b5a2e2e8a8bc9</td></tr><tr><td>SBE37SMP Parsed</td><td>Parsed Stream from SBE37SMP instrument at UCSD on Beta Demonstration Platform</td><td>4a810ebb2686488aa1c42ff40a4f8559</td></tr><tr><td>Density L2 CTDMO 130m Low Power Sub-surface Mooring A - Global Station Papa Mesoscale Flanking A</td><td>Instrument GP03FLMA-RI001-10-CTDMOG999 core OOI data product</td><td>a01aefea28bd4bb58bb355b2caaaca85</td></tr></table>"
       ],
       "metadata": {},
       "output_type": "pyout",
       "prompt_number": 17,
       "text": [
        "[['name', 'description', 'id'],\n",
        " [u'Conductivity L0 CTDMO 30m Low Power Sub-surface Mooring B - Global Station Papa Mesoscale Flanking B',\n",
        "  u'Instrument GP03FLMB-RI001-06-CTDMOG999 core OOI data product',\n",
        "  u'b6f603f1673c4b86991b99f4665f68c0'],\n",
        " [u'Pressure (Depth) L1 CTDMO 30m Low Power Sub-surface Mooring B - Global Station Papa Mesoscale Flanking B',\n",
        "  u'Instrument GP03FLMB-RI001-06-CTDMOG999 core OOI data product',\n",
        "  u'25720d68f1784c52bd13ccb325bea9fa'],\n",
        " [u'Temperature L0 CTDMO 130m Low Power Sub-surface Mooring B - Global Station Papa Mesoscale Flanking B',\n",
        "  u'Instrument GP03FLMB-RI001-10-CTDMOG999 core OOI data product',\n",
        "  u'a1005d4d2160427991a4df0d2b9de816'],\n",
        " [u'Pressure (Depth) L0 CTDMO 1500m Low Power Sub-surface Mooring B - Global Station Papa Mesoscale Flanking B',\n",
        "  u'Instrument GP03FLMB-RI001-17-CTDMOH999 core OOI data product',\n",
        "  u'28a535262a95472392d50feb8a96e7d2'],\n",
        " [u'Conductivity L1 CTDMO 40m Low Power Sub-surface Mooring B - Global Station Papa Mesoscale Flanking B',\n",
        "  u'Instrument GP03FLMB-RI001-07-CTDMOG999 core OOI data product',\n",
        "  u'f3277625bd40411ca9ac6da613d252f9'],\n",
        " [u'Temperature L1 CTDMO 130m Low Power Sub-surface Mooring B - Global Station Papa Mesoscale Flanking B',\n",
        "  u'Instrument GP03FLMB-RI001-10-CTDMOG999 core OOI data product',\n",
        "  u'5269d3338eef44888649046f5b077475'],\n",
        " [u'Optical Backscatter (Red Wavelengths) L1 FLORD Glider 002 - Global Station Papa Mobile Assets',\n",
        "  u'Instrument GP05MOAS-GL002-01-FLORDM999 core OOI data product',\n",
        "  u'032dd880e600453abb9a9a84d2f5fa8d'],\n",
        " [u'SBE37SMP Raw',\n",
        "  u'Raw stream from SBE37SMP instrument at UCSD on Beta Demonstration Platform',\n",
        "  u'2eac0ea6925d4e9ea19b5a2e2e8a8bc9'],\n",
        " [u'SBE37SMP Parsed',\n",
        "  u'Parsed Stream from SBE37SMP instrument at UCSD on Beta Demonstration Platform',\n",
        "  u'4a810ebb2686488aa1c42ff40a4f8559'],\n",
        " [u'Density L2 CTDMO 130m Low Power Sub-surface Mooring A - Global Station Papa Mesoscale Flanking A',\n",
        "  u'Instrument GP03FLMA-RI001-10-CTDMOG999 core OOI data product',\n",
        "  u'a01aefea28bd4bb58bb355b2caaaca85']]"
       ]
      }
     ],
     "prompt_number": 17
    },
    {
     "cell_type": "code",
     "collapsed": false,
     "input": [],
     "language": "python",
     "metadata": {},
     "outputs": []
    }
   ],
   "metadata": {}
  }
 ]
}